{
 "cells": [
  {
   "cell_type": "markdown",
   "metadata": {},
   "source": [
    "# Una simulación más precisa\n",
    "\n",
    "A fin de obtener una simulación más precisa, es necesario utilizar un método distinto al de Euler, ya que éste acumula muchos errores a medida que transcurre el tiempo.\n",
    "\n",
    "Uno de estos métodos se conoce como [método de Verlet](http://en.wikipedia.org/wiki/Verlet_integration) en las velocidades, el cual se define mediante las siguientes ecuaciones:\n",
    "\n",
    "$$v_{i+1} = v_{i} + \\left( a_{i} + a_{i+1} \\right) \\frac{\\Delta t}{2}$$\n",
    "\n",
    "$$x_{i+1} = x_{i} + v_{i} \\Delta t + a_{i} \\frac{\\Delta t^2}{2}$$\n",
    "\n",
    "Los términos adicionales que incluyen tanto $v_{i+1}$ como $x_{i+1}$, hacen que el cómputo de estos valores sea mucho más **preciso** que para el método de Euler, como lo veremos a continuación."
   ]
  },
  {
   "cell_type": "markdown",
   "metadata": {},
   "source": [
    "## Problemas"
   ]
  },
  {
   "cell_type": "markdown",
   "metadata": {},
   "source": [
    "### Problema 1\n",
    "\n",
    "Programar la caída de una bola **sin** fuerza de arrastre y **sin** colisión inelástica, pero usando el método de Verlet.\n",
    "\n",
    "**Notas**:\n",
    "\n",
    "* Calcular primero la nueva posición y añadirla a la lista de posiciones.\n",
    "\n",
    "* No utilizar una lista de aceleraciones, ya que la aceleración es constante e igual a *g*.\n",
    "\n",
    "* Debido a lo anterior, la ecuación para la velocidad en el siguiente instante se reduce a:\n",
    "\n",
    "    $$v_{i+1} = v_{i} + g \\, \\Delta t$$\n",
    "\n",
    "    Calcular la nueva velocidad con esta ecuación."
   ]
  },
  {
   "cell_type": "code",
   "execution_count": null,
   "metadata": {
    "collapsed": true
   },
   "outputs": [],
   "source": [
    "# Escribir la solución aquí\n"
   ]
  },
  {
   "cell_type": "markdown",
   "metadata": {},
   "source": [
    "### Problema 2\n",
    "\n",
    "Realizar una gráfica de la posición vs. el tiempo, y trazar una línea horizontal a la altura de la posición inicial. Comparar esta gráfica con la que se obtuvo usando el método de Euler."
   ]
  },
  {
   "cell_type": "code",
   "execution_count": null,
   "metadata": {
    "collapsed": true
   },
   "outputs": [],
   "source": [
    "# Escribir la solución aquí\n"
   ]
  },
  {
   "cell_type": "markdown",
   "metadata": {},
   "source": [
    "### Problema 3\n",
    "\n",
    "Programar la caída de la bola de la bola **con** fuerza de arrastre y colisión inelástica, usando el método de Verlet.\n",
    "\n",
    "**Notas**:\n",
    "\n",
    "* Calcular primero la nueva posición y añadirla a la lista de posiciones.\n",
    "\n",
    "* Calcular la nueva aceleración y añadirla a la lista de aceleraciones. Usar la fórmula de la sección anterior.\n",
    "\n",
    "* Finalmente, calcular la nueva velocidad. No olvidar generar una colisión inelástica cuando la bola chocha contra el piso."
   ]
  },
  {
   "cell_type": "code",
   "execution_count": null,
   "metadata": {
    "collapsed": true
   },
   "outputs": [],
   "source": [
    "# Escribir la solución aquí\n"
   ]
  }
 ],
 "metadata": {
  "kernelspec": {
   "display_name": "Python 3",
   "language": "python",
   "name": "python3"
  },
  "language_info": {
   "codemirror_mode": {
    "name": "ipython",
    "version": 3
   },
   "file_extension": ".py",
   "mimetype": "text/x-python",
   "name": "python",
   "nbconvert_exporter": "python",
   "pygments_lexer": "ipython3",
   "version": "3.4.3"
  }
 },
 "nbformat": 4,
 "nbformat_minor": 0
}
