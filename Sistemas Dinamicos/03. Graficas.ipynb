{
 "cells": [
  {
   "cell_type": "markdown",
   "metadata": {},
   "source": [
    "# Generar gráficas de la simulación\n",
    "\n",
    "Para poder apreciar si la simulación está funcionando correctamente, lo mejor que puede hacerse es visualizar la forma en que está evolucionando a través de gráficas y animaciones.\n",
    "\n",
    "En Python esto puede hacerse por medio una librería llamada *Matplotlib*. Matplotlib ha sido ideada para generar gráficas bidimensionales de alta calidad. Para cargar la librería usamos los siguientes comandos:"
   ]
  },
  {
   "cell_type": "code",
   "execution_count": null,
   "metadata": {
    "collapsed": true
   },
   "outputs": [],
   "source": [
    "%matplotlib inline\n",
    "import matplotlib.pyplot as plt"
   ]
  },
  {
   "cell_type": "markdown",
   "metadata": {},
   "source": [
    "`pyplot` es un submódulo de Matplotlib y por costumbre se importa con el nombre corto `plt`. Dentro de este módulo, el comando que más vamos a utilizar es `plot`, que tiene la siguiente sintaxis:\n",
    "\n",
    "```python\n",
    "plt.plot(x, y)\n",
    "```\n",
    "\n",
    "donde `x` es una lista que contiene los datos que se van a graficar en el eje **x**, mientras que `y` contiene los del eje **y**.\n",
    "\n",
    "**Nota**:\n",
    "\n",
    "Para que `plot` funcione correctamente, las dos listas deben tener el mismo número de elementos."
   ]
  },
  {
   "cell_type": "markdown",
   "metadata": {},
   "source": [
    "Por ejemplo, para graficar la línea vertical $y=2$ podemos usar el comando:"
   ]
  },
  {
   "cell_type": "code",
   "execution_count": null,
   "metadata": {
    "collapsed": false
   },
   "outputs": [],
   "source": [
    "plt.plot([2]*10, range(10))"
   ]
  },
  {
   "cell_type": "markdown",
   "metadata": {},
   "source": [
    "`plot` también puede recibir una sola lista como argumento, en cuyo caso toma esta lista como `y`, mientras que utiliza `x` automáticamente como `range(0, len(y))`. Por ejemplo:"
   ]
  },
  {
   "cell_type": "code",
   "execution_count": null,
   "metadata": {
    "collapsed": false
   },
   "outputs": [],
   "source": [
    "plt.plot(range(5,10))"
   ]
  },
  {
   "cell_type": "markdown",
   "metadata": {},
   "source": [
    "Este método también puede usarse para generar la línea horizontal $x=3$, de la siguiente forma:"
   ]
  },
  {
   "cell_type": "code",
   "execution_count": null,
   "metadata": {
    "collapsed": false
   },
   "outputs": [],
   "source": [
    "plt.plot([3]*5)"
   ]
  },
  {
   "cell_type": "markdown",
   "metadata": {},
   "source": [
    "## Problemas"
   ]
  },
  {
   "cell_type": "markdown",
   "metadata": {},
   "source": [
    "### Problema 1\n",
    "\n",
    "Usar `plot` para obtener una gráfica de la posición de la bola vs. el tiempo, y otra de la velocidad vs. el tiempo.\n",
    "\n",
    "**Nota**:\n",
    "\n",
    "Es necesario copiar el código de la simulación de la sección anterior a ésta nuevamente"
   ]
  },
  {
   "cell_type": "code",
   "execution_count": null,
   "metadata": {
    "collapsed": true
   },
   "outputs": [],
   "source": [
    "# Copiar el código de la simulación aquí\n"
   ]
  },
  {
   "cell_type": "code",
   "execution_count": null,
   "metadata": {
    "collapsed": true
   },
   "outputs": [],
   "source": [
    "# Escribir la solución aquí\n"
   ]
  },
  {
   "cell_type": "markdown",
   "metadata": {},
   "source": [
    "### Problema 2\n",
    "\n",
    "Graficar una línea horizontal a la altura de la posición inicial y dejar evolucionar el sistema durante al menos 20 segundos. Tratar de entender qué es lo que se observa en la gráfica."
   ]
  },
  {
   "cell_type": "code",
   "execution_count": null,
   "metadata": {
    "collapsed": true
   },
   "outputs": [],
   "source": [
    "# Escribir la solución aquí\n"
   ]
  }
 ],
 "metadata": {
  "kernelspec": {
   "display_name": "Python 3",
   "language": "python",
   "name": "python3"
  },
  "language_info": {
   "codemirror_mode": {
    "name": "ipython",
    "version": 3
   },
   "file_extension": ".py",
   "mimetype": "text/x-python",
   "name": "python",
   "nbconvert_exporter": "python",
   "pygments_lexer": "ipython3",
   "version": "3.4.3"
  }
 },
 "nbformat": 4,
 "nbformat_minor": 0
}
